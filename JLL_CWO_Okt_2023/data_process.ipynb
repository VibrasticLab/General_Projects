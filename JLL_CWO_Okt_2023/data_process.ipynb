{
 "cells": [
  {
   "cell_type": "markdown",
   "metadata": {},
   "source": [
    "# Data Processing of Accelerometer Data\n",
    "This notebook arranged for extracting and processing accelerometer data, especially from Piezotronic (National Instruments) and Digiducer devices. This notebook is arranged as the following work order\n",
    "1. Extract acceleration data from the obtained measurement file\n",
    "2. Interpret acceleration data in both time and frequency domain \n",
    "3. Convert the acceleration data into velocity and diplacement units\n",
    "4. Evalute all vibrations data based on defined standard "
   ]
  },
  {
   "cell_type": "markdown",
   "metadata": {},
   "source": [
    "### Pre processing step\n",
    "All necessary library are imported "
   ]
  },
  {
   "cell_type": "code",
   "execution_count": 1,
   "metadata": {},
   "outputs": [],
   "source": [
    "import numpy as np\n",
    "import matplotlib.pyplot as plt\n",
    "import os\n",
    "import pandas as pd\n",
    "from tkinter import filedialog as fd\n",
    "from utils import *"
   ]
  },
  {
   "cell_type": "markdown",
   "metadata": {},
   "source": [
    "### Working on Digiducer Data\n",
    "This section focused on extracting and processing data form Digiducer sensor"
   ]
  },
  {
   "cell_type": "markdown",
   "metadata": {},
   "source": [
    "#### 1. Extract and visualize data from digiducer data (full sequences)"
   ]
  },
  {
   "cell_type": "code",
   "execution_count": null,
   "metadata": {},
   "outputs": [],
   "source": [
    "# extract digiducer data\n",
    "time, accA, accB = extract_digiducer()\n",
    "print(\"The data was successfully loaded\")\n",
    "\n",
    "# time based plot of full sequences of loaded data\n",
    "fig1 = plt.figure(figsize=(9,3), tight_layout=True)\n",
    "ax1 = fig1.add_subplot(111)\n",
    "ax1.set_facecolor('white')\n",
    "ax1.grid(True,which='both',ls='--')\n",
    "ax1.set_xlabel(\"Time (s)\")\n",
    "ax1.set_ylabel(\"Acceleration (g)\")\n",
    "ax1.set_title(\"Full sequences of acceleration data\")\n",
    "line1, = ax1.plot(time, accB)"
   ]
  },
  {
   "cell_type": "markdown",
   "metadata": {},
   "source": [
    "#### 2a. Segmenting the acceleration data on each frequencies stimulus (on time domain) and visualizing it"
   ]
  },
  {
   "cell_type": "code",
   "execution_count": null,
   "metadata": {},
   "outputs": [],
   "source": [
    "# segmenting the data for each sequence of stimulus (pure tones having frequencies of 31.5; 40; 50; and 63 Hz)\n",
    "digiducer_fs = 8000\n",
    "freq_stimulus = [\"31.5\", \"40\", \"50\", \"63\"]\n",
    "datapoints = [\n",
    "    [0*digiducer_fs, 100*digiducer_fs],\n",
    "    [100*digiducer_fs, 200*digiducer_fs],\n",
    "    [200*digiducer_fs, 300*digiducer_fs],\n",
    "    [300*digiducer_fs, 400*digiducer_fs],\n",
    "    ]\n",
    "\n",
    "segmented_data = segmenting_data(accA, datapoints)\n",
    "\n",
    "# interpret acceleration in time domain data for each frequencies\n",
    "fig2 = plt.figure(figsize=(9,12), tight_layout=True)\n",
    "fig2.suptitle(\"Acceleration on each frequency stimulus (Time domain)\")\n",
    "for i in range(len(datapoints)):\n",
    "    fig2.add_subplot(len(datapoints),1,i+1)\n",
    "    plt.plot(time[datapoints[i][0]:datapoints[i][1]], segmented_data[i])\n",
    "    plt.xlabel(\"Time (s)\")\n",
    "    plt.ylabel(\"Acc (g)\")\n",
    "    plt.title(\"Stimulus Frequencies : \" + freq_stimulus[i] + \" Hz\")\n",
    "\n",
    "plt.show()\n"
   ]
  },
  {
   "cell_type": "markdown",
   "metadata": {},
   "source": [
    "#### 2b. Transofrming the obtained data to frequency domain using FFT"
   ]
  },
  {
   "cell_type": "code",
   "execution_count": null,
   "metadata": {},
   "outputs": [],
   "source": [
    "## Tranforming segmented data to frequency domain using Fast-Fourier Transform\n",
    "fig3 = plt.figure(figsize=(9,12), tight_layout=True)\n",
    "fig3.suptitle(\"Acceleration on each frequency stimulus (Frequency domain)\")\n",
    "for i in range(len(datapoints)):\n",
    "    fig3.add_subplot(len(datapoints),1,i+1)\n",
    "    \n",
    "    # applying FFT\n",
    "    acc = segmented_data[i]\n",
    "    nfft = int(pow(2, np.ceil(np.log2(len(acc)))))\n",
    "    win = np.hamming(len(acc))\n",
    "    freq = (digiducer_fs/2) * np.arange(0,1,1/(nfft/2+1))\n",
    "\n",
    "    ACC = 2/len(acc) * np.fft.fft(win*acc, nfft)\n",
    "\n",
    "    plt.plot(freq, abs(ACC)[0:int(nfft/2+1)])\n",
    "    plt.xlabel(\"Frequency (Hz)\")\n",
    "    plt.ylabel(\"Magnitude (g)\")\n",
    "    plt.xlim([0, 200])\n",
    "    plt.title(\"Stimulus Frequencies : \" + freq_stimulus[i] + \" Hz\")\n",
    "\n",
    "plt.show()"
   ]
  }
 ],
 "metadata": {
  "kernelspec": {
   "display_name": "Python 3.10.5",
   "language": "python",
   "name": "python3"
  },
  "language_info": {
   "codemirror_mode": {
    "name": "ipython",
    "version": 3
   },
   "file_extension": ".py",
   "mimetype": "text/x-python",
   "name": "python",
   "nbconvert_exporter": "python",
   "pygments_lexer": "ipython3",
   "version": "3.10.5"
  },
  "orig_nbformat": 4,
  "vscode": {
   "interpreter": {
    "hash": "e7370f93d1d0cde622a1f8e1c04877d8463912d04d973331ad4851f04de6915a"
   }
  }
 },
 "nbformat": 4,
 "nbformat_minor": 2
}
