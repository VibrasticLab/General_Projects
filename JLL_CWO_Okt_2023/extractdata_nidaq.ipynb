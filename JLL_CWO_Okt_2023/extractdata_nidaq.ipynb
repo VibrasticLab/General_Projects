{
 "cells": [
  {
   "cell_type": "code",
   "execution_count": null,
   "metadata": {},
   "outputs": [],
   "source": [
    "#this python notebook is for extracting data from labview measurement data\n",
    "\n",
    "import matplotlib.pyplot as plt\n",
    "import csv\n",
    "import numpy as np\n",
    "import sys\n",
    "import tkinter as tk\n",
    "from tkinter import filedialog\n",
    "\n",
    "root = tk.Tk()\n",
    "root.withdraw()\n",
    "fs = 25600\n",
    "\n",
    "file_path = filedialog.askopenfilename()\n",
    "\n",
    "file = open(file_path)\n",
    "t, s0, s1, s2, s3 = ([], [], [], [], [])\n",
    "\n",
    "type(file)\n",
    "for line in file:\n",
    "    splitrow = line.rstrip().split(\"\t\")\n",
    "    t.append(float(splitrow[0].replace(\",\", \".\")))\n",
    "    s0.append(float(splitrow[1].replace(\",\", \".\")))\n",
    "    s1.append(float(splitrow[2].replace(\",\", \".\")))\n",
    "    s2.append(float(splitrow[3].replace(\",\", \".\")))\n",
    "    s3.append(float(splitrow[4].replace(\",\", \".\")))"
   ]
  },
  {
   "cell_type": "code",
   "execution_count": null,
   "metadata": {},
   "outputs": [],
   "source": [
    "\n",
    "\n",
    "plt.plot(t,s0)"
   ]
  }
 ],
 "metadata": {
  "language_info": {
   "name": "python"
  }
 },
 "nbformat": 4,
 "nbformat_minor": 2
}
